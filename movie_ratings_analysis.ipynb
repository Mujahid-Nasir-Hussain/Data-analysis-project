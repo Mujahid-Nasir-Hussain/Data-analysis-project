{
  "nbformat": 4,
  "nbformat_minor": 0,
  "metadata": {
    "colab": {
      "provenance": []
    },
    "kernelspec": {
      "name": "python3",
      "display_name": "Python 3"
    },
    "language_info": {
      "name": "python"
    }
  },
  "cells": [
    {
      "cell_type": "markdown",
      "source": [
        "# 📝 Movie Ratings Analysis Script\n",
        "# Assumption: We're using a predefined list of movie data with valid \"rating\", \"genre\", \"title\", and \"release_year\" fields.\n",
        "# Objective: To analyze the dataset to extract useful insights like average ratings, genre stats, and top/bottom movies.\n"
      ],
      "metadata": {
        "id": "kE-S-2tdBD0C"
      }
    },
    {
      "cell_type": "code",
      "execution_count": 5,
      "metadata": {
        "colab": {
          "base_uri": "https://localhost:8080/"
        },
        "id": "645IM3Dx43dz",
        "outputId": "4a2df62a-cac9-4c63-f9a3-7252a6c3d820"
      },
      "outputs": [
        {
          "output_type": "stream",
          "name": "stdout",
          "text": [
            "[{'title': 'Inception', 'genre': 'Sci-Fi', 'release_year': 2010, 'rating': 8.8}, {'title': 'The Dark Knight', 'genre': 'Action', 'release_year': 2008, 'rating': 9.0}, {'title': 'Interstellar', 'genre': 'Sci-Fi', 'release_year': 2014, 'rating': 8.6}, {'title': 'Parasite', 'genre': 'Thriller', 'release_year': 2019, 'rating': 8.6}, {'title': 'Joker', 'genre': 'Drama', 'release_year': 2019, 'rating': 8.5}, {'title': 'Titanic', 'genre': 'Romance', 'release_year': 1997, 'rating': 7.8}, {'title': 'The Room', 'genre': 'Drama', 'release_year': 2003, 'rating': 3.7}, {'title': 'Avengers: Endgame', 'genre': 'Action', 'release_year': 2019, 'rating': 8.4}, {'title': 'Forrest Gump', 'genre': 'Drama', 'release_year': 1994, 'rating': 8.8}]\n"
          ]
        }
      ],
      "source": [
        "movies = [\n",
        "    {\"title\": \"Inception\", \"genre\": \"Sci-Fi\", \"release_year\": 2010, \"rating\": 8.8},\n",
        "    {\"title\": \"The Dark Knight\", \"genre\": \"Action\", \"release_year\": 2008, \"rating\": 9.0},\n",
        "    {\"title\": \"Interstellar\", \"genre\": \"Sci-Fi\", \"release_year\": 2014, \"rating\": 8.6},\n",
        "    {\"title\": \"Parasite\", \"genre\": \"Thriller\", \"release_year\": 2019, \"rating\": 8.6},\n",
        "    {\"title\": \"Joker\", \"genre\": \"Drama\", \"release_year\": 2019, \"rating\": 8.5},\n",
        "    {\"title\": \"Titanic\", \"genre\": \"Romance\", \"release_year\": 1997, \"rating\": 7.8},\n",
        "    {\"title\": \"The Room\", \"genre\": \"Drama\", \"release_year\": 2003, \"rating\": 3.7},\n",
        "    {\"title\": \"Avengers: Endgame\", \"genre\": \"Action\", \"release_year\": 2019, \"rating\": 8.4},\n",
        "    {\"title\": \"Forrest Gump\", \"genre\": \"Drama\", \"release_year\": 1994, \"rating\": 8.8}\n",
        "]\n",
        "print(movies)"
      ]
    },
    {
      "cell_type": "code",
      "source": [
        "def calculate_average_rating(movies):\n",
        "    total_rating = sum(movie[\"rating\"] for movie in movies)\n",
        "    return round(total_rating / len(movies), 2)\n",
        "print(\"Average Rating:\", calculate_average_rating(movies))"
      ],
      "metadata": {
        "colab": {
          "base_uri": "https://localhost:8080/"
        },
        "id": "lSjTumXf5Z3d",
        "outputId": "5ca1727f-7f54-42a4-a3f0-aca24b3ab810"
      },
      "execution_count": 11,
      "outputs": [
        {
          "output_type": "stream",
          "name": "stdout",
          "text": [
            "Average Rating: 8.02\n"
          ]
        }
      ]
    },
    {
      "cell_type": "code",
      "source": [
        "# 3. Function to find the best-rated movie\n",
        "def best_rated_movie(movies):\n",
        "    return max(movies, key=lambda x: x[\"rating\"])\n",
        "print('Best rated movie:', best_rated_movie(movies))\n"
      ],
      "metadata": {
        "colab": {
          "base_uri": "https://localhost:8080/"
        },
        "id": "MryN60Yp5iG-",
        "outputId": "a00f6efb-2dd7-4dc8-fe53-cb5c55fbdf3f"
      },
      "execution_count": 12,
      "outputs": [
        {
          "output_type": "stream",
          "name": "stdout",
          "text": [
            "Best rated movie: {'title': 'The Dark Knight', 'genre': 'Action', 'release_year': 2008, 'rating': 9.0}\n"
          ]
        }
      ]
    },
    {
      "cell_type": "code",
      "source": [
        "# 4. Function to find the worst-rated movie\n",
        "def worst_rated_movie(movies):\n",
        "    return min(movies, key=lambda x: x[\"rating\"])\n",
        "print('Worst rated movie:', worst_rated_movie(movies))\n"
      ],
      "metadata": {
        "colab": {
          "base_uri": "https://localhost:8080/"
        },
        "id": "mremWRsD5nFC",
        "outputId": "1d31484f-d8a8-4fa7-b2d1-221e0dfb7369"
      },
      "execution_count": 13,
      "outputs": [
        {
          "output_type": "stream",
          "name": "stdout",
          "text": [
            "Worst rated movie: {'title': 'The Room', 'genre': 'Drama', 'release_year': 2003, 'rating': 3.7}\n"
          ]
        }
      ]
    },
    {
      "cell_type": "code",
      "source": [
        "# 5. Function to calculate average rating per genre\n",
        "def average_rating_by_genre(movies):\n",
        "    genre_ratings = {}\n",
        "    for movie in movies:\n",
        "        genre = movie[\"genre\"]\n",
        "        if genre not in genre_ratings:\n",
        "            genre_ratings[genre] = []\n",
        "        genre_ratings[genre].append(movie[\"rating\"])\n",
        "\n",
        "    # Calculate average for each genre\n",
        "    genre_averages = {genre: round(sum(ratings) / len(ratings), 2) for genre, ratings in genre_ratings.items()}\n",
        "    return genre_averages\n",
        "print(\"Average Rating by Genre:\", average_rating_by_genre(movies))\n"
      ],
      "metadata": {
        "colab": {
          "base_uri": "https://localhost:8080/"
        },
        "id": "ZfqykCTA5sHO",
        "outputId": "0578f3da-7777-4be5-b9ef-7867d36d1e4b"
      },
      "execution_count": 15,
      "outputs": [
        {
          "output_type": "stream",
          "name": "stdout",
          "text": [
            "Average Rating by Genre: {'Sci-Fi': 8.7, 'Action': 8.7, 'Thriller': 8.6, 'Drama': 7.0, 'Romance': 7.8}\n"
          ]
        }
      ]
    },
    {
      "cell_type": "code",
      "source": [
        "# 6. Function to filter movies by year\n",
        "def movies_after_year(movies, year):\n",
        "    return [movie for movie in movies if movie[\"release_year\"] > year]\n",
        "print(\"Movies released after 2010:\", movies_after_year(movies, 2010))"
      ],
      "metadata": {
        "colab": {
          "base_uri": "https://localhost:8080/"
        },
        "id": "8AWFnPjI5xHi",
        "outputId": "652f0bc7-7467-44e6-da14-eb3bf1543da2"
      },
      "execution_count": 16,
      "outputs": [
        {
          "output_type": "stream",
          "name": "stdout",
          "text": [
            "Movies released after 2010: [{'title': 'Interstellar', 'genre': 'Sci-Fi', 'release_year': 2014, 'rating': 8.6}, {'title': 'Parasite', 'genre': 'Thriller', 'release_year': 2019, 'rating': 8.6}, {'title': 'Joker', 'genre': 'Drama', 'release_year': 2019, 'rating': 8.5}, {'title': 'Avengers: Endgame', 'genre': 'Action', 'release_year': 2019, 'rating': 8.4}]\n"
          ]
        }
      ]
    },
    {
      "cell_type": "code",
      "source": [
        "# 7. Function to generate and print a summary report\n",
        "def generate_report(movies):\n",
        "    avg_rating = calculate_average_rating(movies)\n",
        "    best_movie = best_rated_movie(movies)\n",
        "    worst_movie = worst_rated_movie(movies)\n",
        "    genre_avg = average_rating_by_genre(movies)\n",
        "\n",
        "    print(\"🎬 MOVIE RATINGS ANALYSIS REPORT\")\n",
        "    print(\"------------------------------------\")\n",
        "    print(f\"📊 Overall Average Rating: {avg_rating}\")\n",
        "    print(f\"🏆 Best-Rated Movie: {best_movie['title']} ({best_movie['rating']})\")\n",
        "    print(f\"💔 Worst-Rated Movie: {worst_movie['title']} ({worst_movie['rating']})\")\n",
        "    print(\"\\n🎭 Genre-wise Average Ratings:\")\n",
        "    for genre, avg in genre_avg.items():\n",
        "        print(f\"  - {genre}: {avg}\")\n",
        "generate_report(movies)\n"
      ],
      "metadata": {
        "colab": {
          "base_uri": "https://localhost:8080/"
        },
        "id": "y8U6A07-51o1",
        "outputId": "ef497932-5f18-4291-b7b9-b73f7b7eb688"
      },
      "execution_count": 22,
      "outputs": [
        {
          "output_type": "stream",
          "name": "stdout",
          "text": [
            "🎬 MOVIE RATINGS ANALYSIS REPORT\n",
            "------------------------------------\n",
            "📊 Overall Average Rating: 8.02\n",
            "🏆 Best-Rated Movie: The Dark Knight (9.0)\n",
            "💔 Worst-Rated Movie: The Room (3.7)\n",
            "\n",
            "🎭 Genre-wise Average Ratings:\n",
            "  - Sci-Fi: 8.7\n",
            "  - Action: 8.7\n",
            "  - Thriller: 8.6\n",
            "  - Drama: 7.0\n",
            "  - Romance: 7.8\n"
          ]
        }
      ]
    },
    {
      "cell_type": "code",
      "source": [
        "# 8. Run the report\n",
        "generate_report(movies)\n",
        "\n",
        "# Optional: Print movies released after a specific year\n",
        "print(\"\\n🎞️ Movies released after 2010:\")\n",
        "for movie in movies_after_year(movies, 2010):\n",
        "    print(f\" - {movie['title']} ({movie['release_year']})\")\n"
      ],
      "metadata": {
        "colab": {
          "base_uri": "https://localhost:8080/"
        },
        "id": "AB8mRl5Y57RK",
        "outputId": "8c94a566-b3b2-4dcf-9aab-1a2283cb03b7"
      },
      "execution_count": 20,
      "outputs": [
        {
          "output_type": "stream",
          "name": "stdout",
          "text": [
            "🎬 MOVIE RATINGS ANALYSIS REPORT\n",
            "------------------------------------\n",
            "📊 Overall Average Rating: 8.02\n",
            "🏆 Best-Rated Movie: The Dark Knight (9.0)\n",
            "💔 Worst-Rated Movie: The Room (3.7)\n",
            "\n",
            "🎭 Genre-wise Average Ratings:\n",
            "\n",
            "🎞️ Movies released after 2010:\n",
            " - Interstellar (2014)\n",
            " - Parasite (2019)\n",
            " - Joker (2019)\n",
            " - Avengers: Endgame (2019)\n"
          ]
        }
      ]
    },
    {
      "cell_type": "markdown",
      "source": [
        "## Assumptions\n",
        "- Ratings are on a scale of 0 to 10.\n",
        "- No missing fields (title, genre, release_year, rating).\n",
        "- Duplicate movie entries are not considered in this sample.\n",
        "\n",
        "## Style Guidelines Followed\n",
        "- PEP8: snake_case function names, consistent spacing, clear comments.\n",
        "- Descriptive function names.\n",
        "- Docstrings used for clarity.\n",
        "- All logic wrapped in functions for reusability.\n"
      ],
      "metadata": {
        "id": "KSHJjPb2AtWy"
      }
    }
  ]
}